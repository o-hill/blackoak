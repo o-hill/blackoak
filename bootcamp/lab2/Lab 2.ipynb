{
 "cells": [
  {
   "cell_type": "code",
   "execution_count": 2,
   "metadata": {},
   "outputs": [
    {
     "name": "stderr",
     "output_type": "stream",
     "text": [
      "/Users/oliver/anaconda3/lib/python3.6/site-packages/h5py/__init__.py:34: FutureWarning: Conversion of the second argument of issubdtype from `float` to `np.floating` is deprecated. In future, it will be treated as `np.float64 == np.dtype(float).type`.\n",
      "  from ._conv import register_converters as _register_converters\n"
     ]
    }
   ],
   "source": [
    "\"\"\"\n",
    "This project was developed by Peter Chen, Rocky Duan, Pieter Abbeel for the Berkeley Deep RL Bootcamp, August 2017.\n",
    "Bootcamp website with slides and lecture videos: https://sites.google.com/view/deep-rl-bootcamp/.\n",
    "\n",
    "Code adapted from Stanford CS231N materials: http://cs231n.stanford.edu/\n",
    "\"\"\"\n",
    "\n",
    "\n",
    "# note to properly run this lab, you should execute all code blocks sequentially\n",
    "import chainer\n",
    "import chainer.functions as F\n",
    "import chainer.links as L\n",
    "from chainer import training\n",
    "from chainer.training import extensions\n",
    "\n",
    "from collections import namedtuple, defaultdict, deque\n",
    "\n",
    "import numpy as np\n",
    "\n",
    "%matplotlib inline\n",
    "\n",
    "import matplotlib\n",
    "import matplotlib.pyplot as plt"
   ]
  },
  {
   "cell_type": "markdown",
   "metadata": {},
   "source": [
    "## Introduction to Chainer\n",
    "\n",
    "Chainer can be understood as Numpy plus the ability to record the computation graph of numerical operations to enable Automatic Differentiation. (Chainer actually also offers many other things; for example, a Numpy equivalent library that runs on GPU, but we will ignore them for now)"
   ]
  },
  {
   "cell_type": "markdown",
   "metadata": {},
   "source": [
    "Let's illustrate how Chainer works by a simple 1D regression task.\n",
    "\n",
    "Suppose we have observations from the following model $y = w x + b + \\epsilon$ where $\\epsilon \\sim \\mathcal{N}(0, 0.1)$ and the task is to estimate the linear model parameters $w, b$ from data."
   ]
  },
  {
   "cell_type": "code",
   "execution_count": 3,
   "metadata": {},
   "outputs": [
    {
     "data": {
      "image/png": "[encoded data removed]",
      "text/plain": [
       "<Figure size 432x288 with 1 Axes>"
      ]
     },
     "metadata": {},
     "output_type": "display_data"
    }
   ],
   "source": [
    "# first generate some observations\n",
    "true_a = 1.3\n",
    "true_b = 0.4\n",
    "data_x = (np.arange(100) / 99.0 - .5).astype(np.float32) # Chainer assumes all the cpu computation is done in float32\n",
    "data_y = (data_x * true_a + true_b + np.random.randn(*data_x.shape) * 0.1).astype(np.float32)\n",
    "_ = plt.scatter(data_x, data_y, c='b')"
   ]
  },
  {
   "cell_type": "markdown",
   "metadata": {},
   "source": [
    "Chainer provides an abstraction called `Link` that describe some computation and keeps track of parameters for it. For instance, a `Linear` link describes a linear map on input and keeps track of `w` and bias `b`."
   ]
  },
  {
   "cell_type": "code",
   "execution_count": 4,
   "metadata": {},
   "outputs": [
    {
     "name": "stdout",
     "output_type": "stream",
     "text": [
      "w: variable W([[0.15804105]])\n",
      "b: variable b([0.])\n",
      "Operations on chainer.Variable: variable([[123.15804]]), type: <class 'chainer.variable.Variable'>\n",
      "numpy arrays: [[0.15804105]] [[123.15804]]\n"
     ]
    }
   ],
   "source": [
    "model = L.Linear(in_size=1, out_size=1) # input is 1D data and output is also 1D data\n",
    "\n",
    "# Chainer will randomly initialize `w` and `b` for us.\n",
    "# we can take a look at their values\n",
    "print(\"w:\", model.W)\n",
    "print(\"b:\", model.b)\n",
    "\n",
    "# model.W and model.b have type `chainer.Variable`, \n",
    "#   which is a wrapper around Numpy array\n",
    "assert isinstance(model.W, chainer.Variable)\n",
    "\n",
    "# operations that involve `chainer.Variable` will produce\n",
    "#   `chainer.Variable` and this records the computation graph\n",
    "var_result = model.W + 123 # some random computation\n",
    "print(\"Operations on chainer.Variable: %s, type: %s\" % (var_result, type(var_result)))\n",
    "\n",
    "# the underlying numpy array can be accessed by `data` attribute\n",
    "print(\"numpy arrays:\", model.W.data, var_result.data)"
   ]
  },
  {
   "cell_type": "code",
   "execution_count": 5,
   "metadata": {},
   "outputs": [
    {
     "data": {
      "image/png": "[encoded data removed]",
      "text/plain": [
       "<Figure size 432x288 with 1 Axes>"
      ]
     },
     "metadata": {},
     "output_type": "display_data"
    }
   ],
   "source": [
    "# A chainer link is a callable object. calling it performs the\n",
    "#   forward computation. (in this case, it performs Wx + b)\n",
    "model_y = model(data_x[:, None]) # chainer's link usually assumes input is [Batch Size, Input Dimension]\n",
    "# `model_y` is a chainer variable so we use `.data` to access its numpy array for plotting\n",
    "\n",
    "# we can plot the model's current fit in red. it should be terrible because we haven't trained it yet\n",
    "_ = plt.plot(data_x, model_y.data[:,0], c='r')\n",
    "_ = plt.scatter(data_x, data_y, c='b')\n",
    "_ = plt.title(\"Initial model\")"
   ]
  },
  {
   "cell_type": "code",
   "execution_count": 11,
   "metadata": {},
   "outputs": [
    {
     "name": "stdout",
     "output_type": "stream",
     "text": [
      "loss variable(0.5051484704017639)\n",
      "dloss/dW [[-0.33470789]]\n"
     ]
    }
   ],
   "source": [
    "# now let's walk through how to perform forward computation\n",
    "#  and use AD to get gradients\n",
    "\n",
    "# first we clear the gradients that are stored in the model\n",
    "model.cleargrads()\n",
    "# as we have seen we can perform forward computation by calling the link\n",
    "model_y = model(data_x[:, None])\n",
    "\n",
    "# remember that `model_y` is a chainer variable. to operate on chainer variable\n",
    "#    we will use functions from chainer.functions to operate on those objects.\n",
    "loss = F.mean(F.square(model_y - data_y[:, None]))\n",
    "# `loss` is a scalar chainer variable\n",
    "assert isinstance(loss, chainer.Variable)\n",
    "print(\"loss\", loss)\n",
    "# calculating gradients d loss /d params is as simple as\n",
    "loss.backward()\n",
    "\n",
    "# we can inspect the gradient of loss with respect to W\n",
    "print(\"dloss/dW\", model.W.grad)"
   ]
  },
  {
   "cell_type": "markdown",
   "metadata": {},
   "source": [
    "Now that we know how to calculate gradients, we can code up a simple loop to perform gradient descent to train this model:\n",
    "\n",
    "(Hint: if you run into weird problems, maybe the state has been messed up and you can try re-runing all the code blocks from the beginning)"
   ]
  },
  {
   "cell_type": "code",
   "execution_count": 17,
   "metadata": {},
   "outputs": [
    {
     "name": "stdout",
     "output_type": "stream",
     "text": [
      "Itr 0 loss: variable(0.18534042)\n",
      "Itr 25 loss: variable(0.00864364)\n",
      "Itr 50 loss: variable(0.00830919)\n",
      "Itr 75 loss: variable(0.00830526)\n"
     ]
    },
    {
     "data": {
      "image/png": "[encoded data removed]",
      "text/plain": [
       "<Figure size 432x288 with 1 Axes>"
      ]
     },
     "metadata": {},
     "output_type": "display_data"
    },
    {
     "data": {
      "image/png": "[encoded data removed]",
      "text/plain": [
       "<Figure size 432x288 with 1 Axes>"
      ]
     },
     "metadata": {},
     "output_type": "display_data"
    }
   ],
   "source": [
    "# now we can perform gradient descent to improve this model\n",
    "model = L.Linear(in_size=1, out_size=1)\n",
    "losses = []\n",
    "\n",
    "# Tried different learning rates,\n",
    "# this worked out best.\n",
    "learning_rate = 0.5\n",
    "\n",
    "for i in range(100):\n",
    "    model.cleargrads()\n",
    "    loss = F.mean(F.square(model(data_x[:, None]) - data_y[:, None]))\n",
    "    losses.append(float(loss.data))\n",
    "    ## *** YOUR CODE HERE TO PERFORM GRADIENT DESCENT ***\n",
    "    ## Hint: you could access gradients with model.W.grad, model.b.grad\n",
    "    ## Hint2: you could write data into a parameter with model.W.data[:] = some_numpy_array\n",
    "    ## Hint3: if your model doesn't learn, remember to try different learning rates\n",
    "    \n",
    "    # Calculate the back propagation.\n",
    "    loss.backward()\n",
    "    \n",
    "    # Make the update using the learning rate.\n",
    "    model.W.data[:] -= learning_rate * model.W.grad[0]\n",
    "    model.b.data[:] -= learning_rate * model.b.grad[0]\n",
    "    \n",
    "    if i % 25 == 0:\n",
    "        print(\"Itr\", i, \"loss:\", loss)\n",
    "plt.plot(np.array(losses))\n",
    "plt.title(\"Learning curve\")\n",
    "plt.figure()\n",
    "plt.plot(data_x, model(data_x[:, None])[:,0].data, c='r')\n",
    "plt.scatter(data_x, data_y, c='b')\n",
    "_ = plt.title(\"Trained model fitness\")\n"
   ]
  },
  {
   "cell_type": "markdown",
   "metadata": {},
   "source": [
    "## Train your first deep model\n",
    "\n",
    "Now we have learned the basics of Chainer. We can use it to train a deep model to classify MNIST digits. We will train a model on the MNIST dataset because the dataset is small.\n",
    "\n",
    "First we load the data and see what the images look like:"
   ]
  },
  {
   "cell_type": "code",
   "execution_count": 19,
   "metadata": {
    "scrolled": false
   },
   "outputs": [
    {
     "name": "stdout",
     "output_type": "stream",
     "text": [
      "train[i][0] is the ith image that's flattened, and has shape: (784,)\n",
      "train[i][1] is the ith image's label, such as: 3\n"
     ]
    },
    {
     "data": {
      "image/png": "[encoded data removed]",
      "text/plain": [
       "<Figure size 432x288 with 1 Axes>"
      ]
     },
     "metadata": {},
     "output_type": "display_data"
    },
    {
     "data": {
      "image/png": "[encoded data removed]",
      "text/plain": [
       "<Figure size 432x288 with 1 Axes>"
      ]
     },
     "metadata": {},
     "output_type": "display_data"
    }
   ],
   "source": [
    "train, test = chainer.datasets.get_mnist()\n",
    "# use train[data_point_index] to access data\n",
    "print(\"train[i][0] is the ith image that's flattened, and has shape:\", train[12][0].shape)\n",
    "print(\"train[i][1] is the ith image's label, such as:\", train[12][1])\n",
    "# here we visualize two of them\n",
    "plt.imshow(train[12][0].reshape([28, 28,]))\n",
    "plt.title(\"Label: %s\" % train[12][1])\n",
    "plt.figure()\n",
    "plt.imshow(train[42][0].reshape([28, 28,]))\n",
    "_ = plt.title(\"Label: %s\" % train[42][1])"
   ]
  },
  {
   "cell_type": "markdown",
   "metadata": {},
   "source": [
    "Next we will provide some boilerplate code and train a linear classifier as an example:"
   ]
  },
  {
   "cell_type": "code",
   "execution_count": 20,
   "metadata": {},
   "outputs": [
    {
     "name": "stdout",
     "output_type": "stream",
     "text": [
      "loss: 2.3231852054595947; accuracy: 0.125\n",
      "loss: 0.6139968776702881; accuracy: 0.8775\n",
      "loss: 0.5021745246648789; accuracy: 0.865\n",
      "loss: 0.40869279205799103; accuracy: 0.8875\n",
      "loss: 0.3764310520887375; accuracy: 0.905\n",
      "loss: 0.36402542859315873; accuracy: 0.8925\n",
      "loss: 0.2994882428646088; accuracy: 0.915\n",
      "loss: 0.2507054190337658; accuracy: 0.9425\n",
      "loss: 0.2939350137114525; accuracy: 0.92\n",
      "loss: 0.2623199537396431; accuracy: 0.9225\n",
      "loss: 0.3801374927163124; accuracy: 0.895\n",
      "loss: 0.3616067224740982; accuracy: 0.9025\n",
      "loss: 0.43964664012193677; accuracy: 0.87\n",
      "loss: 0.2933382499217987; accuracy: 0.915\n",
      "loss: 0.2121167302131653; accuracy: 0.945\n",
      "loss: 0.3326936939358711; accuracy: 0.93\n",
      "loss: 0.37439855724573134; accuracy: 0.9175\n",
      "loss: 0.2712454688549042; accuracy: 0.9225\n",
      "loss: 0.3601724010705948; accuracy: 0.89\n",
      "loss: 0.27496796637773513; accuracy: 0.9225\n",
      "loss: 0.30093707352876664; accuracy: 0.9125\n",
      "loss: 0.3034476435184479; accuracy: 0.925\n",
      "loss: 0.2873782651126385; accuracy: 0.91\n",
      "loss: 0.2547555950284004; accuracy: 0.925\n",
      "loss: 0.3264182458817959; accuracy: 0.91\n",
      "loss: 0.27750602483749387; accuracy: 0.9375\n"
     ]
    }
   ],
   "source": [
    "def run(model, batchsize=16, num_epochs=2):\n",
    "    \n",
    "    optimizer = chainer.optimizers.Adam() # we will use chainer's Adam implementation instead of writing our own gradient based optimization\n",
    "    optimizer.setup(model)\n",
    "    \n",
    "    stats = defaultdict(lambda: deque(maxlen=25))\n",
    "    for epoch in range(num_epochs):\n",
    "        train_iter = chainer.iterators.SerialIterator(train, batchsize, repeat=False, shuffle=True)\n",
    "        test_iter = chainer.iterators.SerialIterator(test, batchsize, repeat=False, shuffle=False)\n",
    "        \n",
    "        for itr, batch in enumerate(train_iter):\n",
    "            xs = np.concatenate([datum[0][None, :] for datum in batch])\n",
    "            ys = np.array([datum[1] for datum in batch])\n",
    "\n",
    "            logits = model(xs)\n",
    "\n",
    "            loss = F.softmax_cross_entropy(logits, ys)\n",
    "            model.cleargrads()\n",
    "            loss.backward()\n",
    "            optimizer.update()\n",
    "            \n",
    "            # calculate stats\n",
    "            stats[\"loss\"].append(float(loss.data))\n",
    "            stats[\"accuracy\"].append(float((logits.data.argmax(1) == ys).sum() / batchsize))\n",
    "            if itr % 300 == 0:\n",
    "                print(\"; \".join(\"%s: %s\" % (k, np.mean(vs)) for k, vs in stats.items()))\n",
    "\n",
    "# try a simple linear model\n",
    "run(L.Linear(None, 10))"
   ]
  },
  {
   "cell_type": "markdown",
   "metadata": {},
   "source": [
    "Next we will try to improve performance by training an MLP instead. A partial implementation is provided for you to fill in:"
   ]
  },
  {
   "cell_type": "code",
   "execution_count": 22,
   "metadata": {},
   "outputs": [
    {
     "name": "stdout",
     "output_type": "stream",
     "text": [
      "loss: 2.3162918090820312; accuracy: 0.0\n",
      "loss: 0.24654643803834916; accuracy: 0.915\n",
      "loss: 0.23672489523887635; accuracy: 0.9375\n",
      "loss: 0.12416292786598206; accuracy: 0.955\n",
      "loss: 0.21408796429634094; accuracy: 0.945\n",
      "loss: 0.18677742898464203; accuracy: 0.935\n",
      "loss: 0.1283956077694893; accuracy: 0.97\n",
      "loss: 0.1883389577269554; accuracy: 0.94\n",
      "loss: 0.1488386309146881; accuracy: 0.96\n",
      "loss: 0.13576691210269928; accuracy: 0.96\n",
      "loss: 0.1096490091085434; accuracy: 0.975\n",
      "loss: 0.0838426423072815; accuracy: 0.975\n",
      "loss: 0.1692946058511734; accuracy: 0.9475\n",
      "loss: 0.12373192846775055; accuracy: 0.96\n",
      "loss: 0.06518079549074172; accuracy: 0.9725\n",
      "loss: 0.06808134227991104; accuracy: 0.975\n",
      "loss: 0.05487355172634125; accuracy: 0.9825\n",
      "loss: 0.06729387164115906; accuracy: 0.975\n",
      "loss: 0.0946497541666031; accuracy: 0.9675\n",
      "loss: 0.06315419375896454; accuracy: 0.975\n",
      "loss: 0.10209133982658386; accuracy: 0.955\n",
      "loss: 0.06199103116989136; accuracy: 0.975\n",
      "loss: 0.08782001912593841; accuracy: 0.975\n",
      "loss: 0.07287018239498139; accuracy: 0.98\n",
      "loss: 0.09277287781238557; accuracy: 0.97\n",
      "loss: 0.048339502811431886; accuracy: 0.985\n"
     ]
    }
   ],
   "source": [
    "class MLP(chainer.Chain):\n",
    "\n",
    "    def __init__(self, n_units, n_out):\n",
    "        super(MLP, self).__init__()\n",
    "        with self.init_scope():\n",
    "            # the size of the inputs to each layer will be inferred\n",
    "            self.l1 = L.Linear(None, n_units)  # n_in -> n_units\n",
    "            self.l2 = L.Linear(None, n_units)  # n_units -> n_units\n",
    "            self.l3 = L.Linear(None, n_out)  # n_units -> n_out\n",
    "\n",
    "    def __call__(self, x):\n",
    "        # *** YOUR CODE HERE TO BUILD AN MLP W/ self.l1, self.l2, self.l3 ***\n",
    "        # \n",
    "        # Hint: you should make use of non-linearities / activation functions\n",
    "        #     https://docs.chainer.org/en/stable/reference/functions.html#activation-functions\n",
    "        \n",
    "        first = F.relu(self.l1(x))\n",
    "        \n",
    "        second = F.relu(self.l2(first))\n",
    "        \n",
    "        return self.l3(second)\n",
    "        \n",
    "run(MLP(200, 10))"
   ]
  },
  {
   "cell_type": "markdown",
   "metadata": {},
   "source": [
    "Next you should try to implement logging test loss and see if the model is overfitting."
   ]
  },
  {
   "cell_type": "code",
   "execution_count": 24,
   "metadata": {},
   "outputs": [
    {
     "name": "stdout",
     "output_type": "stream",
     "text": [
      "loss: 2.38846755027771; accuracy: 0.0625; val_loss: 2.38846755027771; val_accuracy: 0.0625\n",
      "loss: 0.3090625289082527; accuracy: 0.9075; val_loss: 1.3038602247834206; val_accuracy: 0.5\n",
      "loss: 0.23513010621070862; accuracy: 0.9225; val_loss: 0.9792862981557846; val_accuracy: 0.625\n",
      "loss: 0.1629983240365982; accuracy: 0.96; val_loss: 0.7569107823073864; val_accuracy: 0.71875\n",
      "loss: 0.1665985932946205; accuracy: 0.95; val_loss: 0.6251028537750244; val_accuracy: 0.775\n",
      "loss: 0.148799267411232; accuracy: 0.955; val_loss: 0.5248759239912033; val_accuracy: 0.8125\n",
      "loss: 0.17473470360040666; accuracy: 0.955; val_loss: 0.47629633971623014; val_accuracy: 0.8303571428571429\n",
      "loss: 0.20468682527542115; accuracy: 0.9375; val_loss: 0.4234149679541588; val_accuracy: 0.8515625\n",
      "loss: 0.12322749078273773; accuracy: 0.9525; val_loss: 0.37742193871074253; val_accuracy: 0.8680555555555556\n",
      "loss: 0.09584340929985047; accuracy: 0.96; val_loss: 0.35681381970644; val_accuracy: 0.86875\n",
      "loss: 0.12244837701320649; accuracy: 0.95; val_loss: 0.33108274367722595; val_accuracy: 0.8806818181818182\n",
      "loss: 0.14782276153564453; accuracy: 0.9525; val_loss: 0.3065718300640583; val_accuracy: 0.890625\n",
      "loss: 0.11733110845088959; accuracy: 0.9675; val_loss: 0.2866942114554919; val_accuracy: 0.8990384615384616\n",
      "loss: 0.1561276912689209; accuracy: 0.9575; val_loss: 0.2757235329066004; val_accuracy: 0.9017857142857143\n",
      "loss: 0.10306325852870941; accuracy: 0.9625; val_loss: 0.2895793507496516; val_accuracy: 0.8958333333333334\n",
      "loss: 0.11158241778612137; accuracy: 0.9575; val_loss: 0.2763235215097666; val_accuracy: 0.90234375\n",
      "loss: 0.14155131816864014; accuracy: 0.9575; val_loss: 0.2628830496002646; val_accuracy: 0.9080882352941176\n",
      "loss: 0.032526875436306; accuracy: 0.9875; val_loss: 0.24890323148833382; val_accuracy: 0.9131944444444444\n",
      "loss: 0.1484225308895111; accuracy: 0.9475; val_loss: 0.2462081564100165; val_accuracy: 0.9111842105263158\n",
      "loss: 0.08497957944869995; accuracy: 0.975; val_loss: 0.24640333503484727; val_accuracy: 0.9125\n",
      "loss: 0.07360284149646759; accuracy: 0.9775; val_loss: 0.23819621687843687; val_accuracy: 0.9136904761904762\n",
      "loss: 0.04904242217540741; accuracy: 0.9875; val_loss: 0.22764567624438892; val_accuracy: 0.9176136363636364\n",
      "loss: 0.07311593830585479; accuracy: 0.99; val_loss: 0.2392181767069775; val_accuracy: 0.9184782608695652\n",
      "loss: 0.08371062368154526; accuracy: 0.9675; val_loss: 0.24100307375192642; val_accuracy: 0.9192708333333334\n",
      "loss: 0.12262868523597717; accuracy: 0.97; val_loss: 0.2322269546985626; val_accuracy: 0.9225\n",
      "loss: 0.19469522655010224; accuracy: 0.95; val_loss: 0.1428361415863037; val_accuracy: 0.9575\n"
     ]
    }
   ],
   "source": [
    "def better_run(model, batchsize=16, num_epochs=2):\n",
    "\n",
    "    optimizer = chainer.optimizers.Adam() # we will use chainer's Adam implementation instead of writing our own gradient based optimization\n",
    "    optimizer.setup(model)\n",
    "    \n",
    "    stats = defaultdict(lambda: deque(maxlen=25))\n",
    "    for epoch in range(num_epochs):\n",
    "        train_iter = chainer.iterators.SerialIterator(train, batchsize, repeat=False, shuffle=True)\n",
    "        for itr, batch in enumerate(train_iter):\n",
    "            xs = np.concatenate([datum[0][None, :] for datum in batch])\n",
    "            ys = np.array([datum[1] for datum in batch])\n",
    "\n",
    "            logits = model(xs)\n",
    "\n",
    "            loss = F.softmax_cross_entropy(logits, ys)\n",
    "            model.cleargrads()\n",
    "            loss.backward()\n",
    "            optimizer.update()\n",
    "            \n",
    "            # calculate stats\n",
    "            stats[\"loss\"].append(float(loss.data))\n",
    "            stats[\"accuracy\"].append(float((logits.data.argmax(1) == ys).sum() / batchsize))\n",
    "            if itr % 300 == 0:\n",
    "                test_iter = chainer.iterators.SerialIterator(test, batchsize, repeat=False, shuffle=False)\n",
    "                # *** YOUR CODE implement logging of stats on test set ***\n",
    "                stats['val_loss'].append(float(loss.data))\n",
    "                stats['val_accuracy'].append(float((logits.data.argmax(1) == ys).sum() / batchsize))\n",
    "                print(\"; \".join(\"%s: %s\" % (k, np.mean(vs)) for k, vs in stats.items()))\n",
    "\n",
    "better_run(MLP(200, 10))"
   ]
  },
  {
   "cell_type": "markdown",
   "metadata": {},
   "source": [
    "Try different variants!\n",
    "\n",
    "- Does using a ConvNet improve performance (reduce overfitting?)\n",
    "- Try changing the learning rate and observe the effect\n",
    "- Does the model train if you give it correlated gradients? (consecutively sample many batches of \"1\", then many batches of \"2\", ... etc"
   ]
  },
  {
   "cell_type": "code",
   "execution_count": null,
   "metadata": {
    "collapsed": true
   },
   "outputs": [],
   "source": []
  }
 ],
 "metadata": {
  "kernelspec": {
   "display_name": "Python 3",
   "language": "python",
   "name": "python3"
  },
  "language_info": {
   "codemirror_mode": {
    "name": "ipython",
    "version": 3
   },
   "file_extension": ".py",
   "mimetype": "text/x-python",
   "name": "python",
   "nbconvert_exporter": "python",
   "pygments_lexer": "ipython3",
   "version": "3.6.3"
  }
 },
 "nbformat": 4,
 "nbformat_minor": 1
}
